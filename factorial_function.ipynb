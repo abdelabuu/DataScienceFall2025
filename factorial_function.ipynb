{
 "cells": [
  {
   "cell_type": "markdown",
   "id": "fdf09ca7-d799-4ee4-9d30-1ae1fa20989f",
   "metadata": {},
   "source": [
    "# CSC 405"
   ]
  },
  {
   "cell_type": "markdown",
   "id": "5de700e0-998d-4f95-b6d4-cfd44bf25f0b",
   "metadata": {},
   "source": [
    "# Exercise 1: Factorial Function\n",
    "\n",
    "This notebook is for practicing Jupyter Notebook basics. "
   ]
  },
  {
   "cell_type": "code",
   "execution_count": 3,
   "id": "da00687b-fbef-45ef-971c-48f085979517",
   "metadata": {},
   "outputs": [],
   "source": [
    "def factorial(n):\n",
    "    if n == 0:\n",
    "        return 1\n",
    "    else:\n",
    "        return n * factorial(n - 1)\n"
   ]
  },
  {
   "cell_type": "code",
   "execution_count": 4,
   "id": "a8045ebf-51f8-4490-a853-11d77506e8aa",
   "metadata": {},
   "outputs": [
    {
     "data": {
      "text/plain": [
       "120"
      ]
     },
     "execution_count": 4,
     "metadata": {},
     "output_type": "execute_result"
    }
   ],
   "source": [
    "# Testing the factorial function\n",
    "factorial(5)\n"
   ]
  },
  {
   "cell_type": "markdown",
   "id": "59981c68-b1d6-44e6-ab7e-5ec2291e8145",
   "metadata": {},
   "source": [
    "# Explanation\n",
    "\n",
    "factorial multiplies numbers down to 1.  \n",
    "the code uses recursion (calls itself) until n = 0.\n"
   ]
  }
 ],
 "metadata": {
  "kernelspec": {
   "display_name": "Python [conda env:base] *",
   "language": "python",
   "name": "conda-base-py"
  },
  "language_info": {
   "codemirror_mode": {
    "name": "ipython",
    "version": 3
   },
   "file_extension": ".py",
   "mimetype": "text/x-python",
   "name": "python",
   "nbconvert_exporter": "python",
   "pygments_lexer": "ipython3",
   "version": "3.13.5"
  }
 },
 "nbformat": 4,
 "nbformat_minor": 5
}
